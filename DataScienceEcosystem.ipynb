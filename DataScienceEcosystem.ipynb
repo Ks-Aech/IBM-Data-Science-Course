{
 "cells": [
  {
   "cell_type": "markdown",
   "id": "6ef98afb-17d7-45e5-99a1-74b1666d4583",
   "metadata": {},
   "source": [
    "# Data Science Tools and Ecosystem"
   ]
  },
  {
   "cell_type": "markdown",
   "id": "1b006cec-0312-4b12-b235-aeb8ea6a373c",
   "metadata": {},
   "source": []
  },
  {
   "cell_type": "markdown",
   "id": "bafc1286-1e39-4f9e-bdda-0b2ae597d63b",
   "metadata": {},
   "source": [
    "In this notebook, Data Science Tools and Ecosystem are summarized."
   ]
  },
  {
   "cell_type": "markdown",
   "id": "8a45ac08-9b69-4dea-b699-88718e74d3a4",
   "metadata": {},
   "source": [
    "Objectives:\n",
    "* List Popular Languages for Data Science.\n",
    "* Commonly used libraries used by Data Scientists.\n",
    "* Data Science Tools\n",
    "* Arithmetic Expression\n",
    "* Hours to minutes conversion"
   ]
  },
  {
   "cell_type": "markdown",
   "id": "84d3f579-1fec-4ca4-9cc9-14d23caabf8c",
   "metadata": {},
   "source": []
  },
  {
   "cell_type": "markdown",
   "id": "f71cf2cf-e19b-45d5-852a-ef8d5751ff50",
   "metadata": {},
   "source": [
    "Some of the popular languages that Data Scientist use are:\n",
    "1. Python\n",
    "2. R\n",
    "3. Java\n",
    "4. Scala"
   ]
  },
  {
   "cell_type": "code",
   "execution_count": null,
   "id": "6d109f14-457c-435e-b895-f0526638cb1e",
   "metadata": {},
   "outputs": [],
   "source": []
  },
  {
   "cell_type": "markdown",
   "id": "47791226-8438-4cbb-aae3-4bc19a4a8fcd",
   "metadata": {},
   "source": [
    "Some of the commonly used libraries used by Data Scientist include:\n",
    "1. Numpy\n",
    "2. Scipy\n",
    "3. Pandas\n",
    "4. TensorFlow"
   ]
  },
  {
   "cell_type": "code",
   "execution_count": null,
   "id": "4ce0d604-1cb6-461c-9971-072dec8f211c",
   "metadata": {},
   "outputs": [],
   "source": []
  },
  {
   "cell_type": "markdown",
   "id": "b927e96d-1434-4cbe-908b-cd172d8989e2",
   "metadata": {},
   "source": [
    "| Data Science Tools |\n",
    "| -- |\n",
    "| Hadoop |\n",
    "| Spark | \n",
    "| Jupyter Notebook |"
   ]
  },
  {
   "cell_type": "code",
   "execution_count": null,
   "id": "66b4e2ef-940d-47d2-954c-3101685c9eb8",
   "metadata": {},
   "outputs": [],
   "source": []
  },
  {
   "cell_type": "markdown",
   "id": "e975396a-6aa2-4200-8bf1-27a474df5688",
   "metadata": {},
   "source": [
    "### Below are a few examples of evaluating arithmetic expressions in Python"
   ]
  },
  {
   "cell_type": "code",
   "execution_count": null,
   "id": "0f0401f5-e245-45c4-8acc-a72c0862e63e",
   "metadata": {},
   "outputs": [],
   "source": []
  },
  {
   "cell_type": "code",
   "execution_count": 1,
   "id": "af4b157a-3926-4fd8-9765-7e40b561ceaf",
   "metadata": {},
   "outputs": [
    {
     "data": {
      "text/plain": [
       "17"
      ]
     },
     "execution_count": 1,
     "metadata": {},
     "output_type": "execute_result"
    }
   ],
   "source": [
    "# This is a simple arithmetic expression to multiply then add integers\n",
    "(3*4)+5"
   ]
  },
  {
   "cell_type": "code",
   "execution_count": null,
   "id": "ca76a62a-9dc0-4c37-88ba-fedd3e75819b",
   "metadata": {},
   "outputs": [],
   "source": []
  },
  {
   "cell_type": "code",
   "execution_count": 2,
   "id": "b6589044-4acd-42c1-80bb-058fe84815f5",
   "metadata": {},
   "outputs": [
    {
     "data": {
      "text/plain": [
       "3.3333333333333335"
      ]
     },
     "execution_count": 2,
     "metadata": {},
     "output_type": "execute_result"
    }
   ],
   "source": [
    "# This will convert 200 minutes to hours by dividing by 60\n",
    "200 / 60"
   ]
  },
  {
   "cell_type": "code",
   "execution_count": null,
   "id": "2ff024e2-a586-4ec9-a60f-77e29cac9cc5",
   "metadata": {},
   "outputs": [],
   "source": []
  },
  {
   "cell_type": "markdown",
   "id": "5a2ef2fb-487e-4b69-a688-b57ee13a5128",
   "metadata": {},
   "source": [
    "## Author \n",
    "Mohd Khalid Altaf Ahmed Shaikh "
   ]
  },
  {
   "cell_type": "code",
   "execution_count": null,
   "id": "af7008de-1967-47f6-b983-057489eb200d",
   "metadata": {},
   "outputs": [],
   "source": []
  }
 ],
 "metadata": {
  "kernelspec": {
   "display_name": "Python 3 (ipykernel)",
   "language": "python",
   "name": "python3"
  },
  "language_info": {
   "codemirror_mode": {
    "name": "ipython",
    "version": 3
   },
   "file_extension": ".py",
   "mimetype": "text/x-python",
   "name": "python",
   "nbconvert_exporter": "python",
   "pygments_lexer": "ipython3",
   "version": "3.11.7"
  }
 },
 "nbformat": 4,
 "nbformat_minor": 5
}
